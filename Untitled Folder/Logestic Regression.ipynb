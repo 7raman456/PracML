{
 "cells": [
  {
   "cell_type": "markdown",
   "id": "335b7454",
   "metadata": {},
   "source": [
    "# Logestic Regression"
   ]
  },
  {
   "cell_type": "markdown",
   "id": "a75ea221",
   "metadata": {},
   "source": [
    "### Importing Libraries"
   ]
  },
  {
   "cell_type": "code",
   "execution_count": 1,
   "id": "10ce9532",
   "metadata": {},
   "outputs": [],
   "source": [
    "import numpy as np\n",
    "import pandas as pd\n",
    "import math\n",
    "from sklearn.model_selection import train_test_split\n",
    "import matplotlib.pyplot as plt"
   ]
  },
  {
   "cell_type": "markdown",
   "id": "344b2532",
   "metadata": {},
   "source": [
    "### Logestic regression model"
   ]
  },
  {
   "cell_type": "code",
   "execution_count": 2,
   "id": "2ee4efe9",
   "metadata": {},
   "outputs": [],
   "source": [
    "class LogesticRegression ():\n",
    "    def __init__(self,lr,epoch):\n",
    "        self.lr = lr\n",
    "        self.epoch = epoch\n",
    "        \n",
    "    def sigmoid(self,X):\n",
    "        x = X.dot(self.W)\n",
    "        return 1/(1+math.exp(-x))\n",
    "        \n",
    "    def fit (self,X,Y):\n",
    "        m,n = X.shape\n",
    "        self.W = np.zeros((n+1,1))\n",
    "        self.X = np.hstack([X,np.ones(m).reshape((m,1))]) \n",
    "\n",
    "        for i in range(self.epoch):\n",
    "            y = np.apply_along_axis(LR.sigmoid,1,self.X).T\n",
    "            self.W = self.W+(self.lr*((Y-y).dot(self.X)).T)/m\n",
    "    \n",
    "    def predict(self,X):\n",
    "        m,n = X.shape\n",
    "        x = np.hstack([X,np.ones(m).reshape((m,1))])\n",
    "        return np.where(np.apply_along_axis(LR.sigmoid,1,x)>0.5,1,0)\n",
    "        \n"
   ]
  },
  {
   "cell_type": "markdown",
   "id": "d4b3c603",
   "metadata": {},
   "source": [
    "### Simple Data For Debuging the model "
   ]
  },
  {
   "cell_type": "code",
   "execution_count": 3,
   "id": "16ac18ff",
   "metadata": {},
   "outputs": [],
   "source": [
    "X = np.array([[1],[2],[3],[4],[5],[6],[7],[8],[9]])\n",
    "Y = np.array([[0],[0],[0],[0],[1],[1],[1],[1],[1]])"
   ]
  },
  {
   "cell_type": "markdown",
   "id": "7c26c1d3",
   "metadata": {},
   "source": [
    "### Trial "
   ]
  },
  {
   "cell_type": "code",
   "execution_count": 4,
   "id": "b830a936",
   "metadata": {},
   "outputs": [],
   "source": [
    "LR = LogesticRegression(0.01,5000)"
   ]
  },
  {
   "cell_type": "code",
   "execution_count": 5,
   "id": "bee4e9fa",
   "metadata": {},
   "outputs": [],
   "source": [
    "LR.fit(X,Y.T)"
   ]
  },
  {
   "cell_type": "code",
   "execution_count": 6,
   "id": "07e27801",
   "metadata": {},
   "outputs": [
    {
     "data": {
      "text/plain": [
       "array([0, 0, 0, 0, 1, 1, 1, 1, 1])"
      ]
     },
     "execution_count": 6,
     "metadata": {},
     "output_type": "execute_result"
    }
   ],
   "source": [
    "LR.predict(X)"
   ]
  },
  {
   "cell_type": "code",
   "execution_count": 7,
   "id": "460efc25",
   "metadata": {},
   "outputs": [
    {
     "data": {
      "text/plain": [
       "[<matplotlib.lines.Line2D at 0x2285dd6c610>]"
      ]
     },
     "execution_count": 7,
     "metadata": {},
     "output_type": "execute_result"
    },
    {
     "data": {
      "image/png": "[encoded data removed]",
      "text/plain": [
       "<Figure size 640x480 with 1 Axes>"
      ]
     },
     "metadata": {},
     "output_type": "display_data"
    }
   ],
   "source": [
    "plt.scatter(X,Y)\n",
    "plt.plot([0,10],[.5,0.5])\n",
    "plt.plot(X,LR.predict(X))"
   ]
  },
  {
   "cell_type": "markdown",
   "id": "b57a6907",
   "metadata": {},
   "source": [
    "#### This is a custom Example threfore 100% accuracy "
   ]
  }
 ],
 "metadata": {
  "kernelspec": {
   "display_name": "Python 3 (ipykernel)",
   "language": "python",
   "name": "python3"
  },
  "language_info": {
   "codemirror_mode": {
    "name": "ipython",
    "version": 3
   },
   "file_extension": ".py",
   "mimetype": "text/x-python",
   "name": "python",
   "nbconvert_exporter": "python",
   "pygments_lexer": "ipython3",
   "version": "3.11.5"
  }
 },
 "nbformat": 4,
 "nbformat_minor": 5
}
